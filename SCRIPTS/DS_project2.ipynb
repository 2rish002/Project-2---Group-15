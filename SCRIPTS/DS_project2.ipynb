{
 "cells": [
  {
   "cell_type": "code",
   "execution_count": 1,
   "metadata": {},
   "outputs": [],
   "source": [
    "import numpy as np\n",
    "import pandas as pd\n",
    "import os\n",
    "import json\n",
    "import matplotlib as mpl\n",
    "import matplotlib.pyplot as plt\n",
    "import seaborn as sns\n",
    "import missingno as msno\n",
    "from sklearn.decomposition import PCA\n",
    "from sklearn.cluster import KMeans\n",
    "\n",
    "import numpy as np\n",
    "import pandas as pd\n",
    "from sklearn.model_selection import train_test_split\n",
    "from sklearn.linear_model import LinearRegression\n",
    "from sklearn.metrics import mean_squared_error, r2_score"
   ]
  },
  {
   "cell_type": "code",
   "execution_count": 2,
   "metadata": {},
   "outputs": [
    {
     "name": "stdout",
     "output_type": "stream",
     "text": [
      "<class 'pandas.core.frame.DataFrame'>\n",
      "RangeIndex: 120 entries, 0 to 119\n",
      "Data columns (total 10 columns):\n",
      " #   Column                       Non-Null Count  Dtype  \n",
      "---  ------                       --------------  -----  \n",
      " 0   Month                        120 non-null    int64  \n",
      " 1   Year                         120 non-null    int64  \n",
      " 2   Date                         120 non-null    object \n",
      " 3   AVG AQI                      120 non-null    float64\n",
      " 4   AVG PM2.5                    120 non-null    float64\n",
      " 5   Vehicle Miles                120 non-null    int64  \n",
      " 6   Heating Degree Days          120 non-null    int64  \n",
      " 7   Cooling Degree days          120 non-null    int64  \n",
      " 8   Heating+Cooling Degree Days  120 non-null    int64  \n",
      " 9   Labor Force                  120 non-null    int64  \n",
      "dtypes: float64(2), int64(7), object(1)\n",
      "memory usage: 9.5+ KB\n"
     ]
    }
   ],
   "source": [
    "AQI = pd.read_csv('/Users/ananyagoel/Downloads/Data For Project - Sheet1 (1).csv')\n",
    "\n",
    "AQI.info()"
   ]
  },
  {
   "cell_type": "code",
   "execution_count": 3,
   "metadata": {},
   "outputs": [],
   "source": [
    "AQI = AQI.drop(columns = ['Month','Year','AVG PM2.5'],axis=1)"
   ]
  },
  {
   "cell_type": "code",
   "execution_count": 4,
   "metadata": {},
   "outputs": [
    {
     "name": "stdout",
     "output_type": "stream",
     "text": [
      "<class 'pandas.core.frame.DataFrame'>\n",
      "RangeIndex: 120 entries, 0 to 119\n",
      "Data columns (total 7 columns):\n",
      " #   Column                       Non-Null Count  Dtype  \n",
      "---  ------                       --------------  -----  \n",
      " 0   Date                         120 non-null    object \n",
      " 1   AVG AQI                      120 non-null    float64\n",
      " 2   Vehicle Miles                120 non-null    int64  \n",
      " 3   Heating Degree Days          120 non-null    int64  \n",
      " 4   Cooling Degree days          120 non-null    int64  \n",
      " 5   Heating+Cooling Degree Days  120 non-null    int64  \n",
      " 6   Labor Force                  120 non-null    int64  \n",
      "dtypes: float64(1), int64(5), object(1)\n",
      "memory usage: 6.7+ KB\n"
     ]
    }
   ],
   "source": [
    "AQI.info()"
   ]
  },
  {
   "cell_type": "code",
   "execution_count": 5,
   "metadata": {},
   "outputs": [
    {
     "name": "stdout",
     "output_type": "stream",
     "text": [
      "Mean Squared Error: 27.590022898728876\n",
      "R-squared: -0.1111195222474608\n",
      "                             Coefficient\n",
      "Vehicle Miles                  -0.000031\n",
      "Heating+Cooling Degree Days     0.006993\n",
      "Labor Force                     0.000092\n"
     ]
    }
   ],
   "source": [
    "X = AQI[['Vehicle Miles', 'Heating+Cooling Degree Days', 'Labor Force']]  # Add more features as needed\n",
    "\n",
    "# Selecting dependent variable (target)\n",
    "y = AQI['AVG AQI']\n",
    "\n",
    "# Step 3: Split Data\n",
    "X_train, X_test, y_train, y_test = train_test_split(X, y, test_size=0.2, random_state=42)\n",
    "\n",
    "# Step 4: Build the Model\n",
    "model = LinearRegression()\n",
    "\n",
    "# Step 5: Train the Model\n",
    "model.fit(X_train, y_train)\n",
    "\n",
    "# Step 6: Evaluate the Model\n",
    "y_pred = model.predict(X_test)\n",
    "mse = mean_squared_error(y_test, y_pred)\n",
    "r2 = r2_score(y_test, y_pred)\n",
    "\n",
    "print(\"Mean Squared Error:\", mse)\n",
    "print(\"R-squared:\", r2)\n",
    "\n",
    "# Step 7: Interpret the Results\n",
    "coefficients = pd.DataFrame(model.coef_, X.columns, columns=['Coefficient'])\n",
    "print(coefficients)"
   ]
  },
  {
   "cell_type": "code",
   "execution_count": 6,
   "metadata": {},
   "outputs": [
    {
     "name": "stdout",
     "output_type": "stream",
     "text": [
      "Pearson correlation coefficient between AQI and heating+cooling degree days: 0.2588073268862745\n",
      "Pearson correlation coefficient between AQI and Labor Force: 0.1871202332552165\n",
      "Pearson correlation coefficient between AQI and vehicle miles traveled: 0.0047429424794243336\n"
     ]
    }
   ],
   "source": [
    "from scipy.stats import pearsonr\n",
    "\n",
    "pearson_coefficient, _ = pearsonr(AQI['AVG AQI'], AQI['Heating+Cooling Degree Days'])\n",
    "print(\"Pearson correlation coefficient between AQI and heating+cooling degree days:\", pearson_coefficient)\n",
    "\n",
    "pearson_coefficient, _ = pearsonr(AQI['AVG AQI'], AQI['Labor Force'])\n",
    "print(\"Pearson correlation coefficient between AQI and Labor Force:\", pearson_coefficient)\n",
    "\n",
    "pearson_coefficient, _ = pearsonr(AQI['AVG AQI'], AQI['Vehicle Miles'])\n",
    "print(\"Pearson correlation coefficient between AQI and vehicle miles traveled:\", pearson_coefficient)"
   ]
  }
 ],
 "metadata": {
  "kernelspec": {
   "display_name": "Python 3",
   "language": "python",
   "name": "python3"
  },
  "language_info": {
   "codemirror_mode": {
    "name": "ipython",
    "version": 3
   },
   "file_extension": ".py",
   "mimetype": "text/x-python",
   "name": "python",
   "nbconvert_exporter": "python",
   "pygments_lexer": "ipython3",
   "version": "3.11.5"
  },
  "orig_nbformat": 4
 },
 "nbformat": 4,
 "nbformat_minor": 2
}
